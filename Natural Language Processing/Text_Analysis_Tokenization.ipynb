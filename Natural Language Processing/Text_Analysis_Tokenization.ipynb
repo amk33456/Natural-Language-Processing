{
 "cells": [
  {
   "cell_type": "code",
   "execution_count": 1,
   "id": "c2c79259",
   "metadata": {},
   "outputs": [],
   "source": [
    "import spacy"
   ]
  },
  {
   "cell_type": "code",
   "execution_count": 5,
   "id": "3033db11",
   "metadata": {},
   "outputs": [
    {
     "name": "stdout",
     "output_type": "stream",
     "text": [
      "Mark\n",
      "and\n",
      "Bill\n",
      "gate\n",
      "visite\n",
      "to\n",
      "delhi\n",
      ".\n",
      "And\n",
      "like\n",
      "the\n",
      "5\n",
      "$\n",
      "chai\n",
      ".\n"
     ]
    }
   ],
   "source": [
    "nlp = spacy.blank(\"en\")\n",
    "\n",
    "doc = nlp('Mark and Bill gate visite to delhi. And like the 5$ chai.')\n",
    "for token in doc:\n",
    "    print(token)"
   ]
  },
  {
   "cell_type": "code",
   "execution_count": 6,
   "id": "ddf25427",
   "metadata": {},
   "outputs": [
    {
     "data": {
      "text/plain": [
       "Mark"
      ]
     },
     "execution_count": 6,
     "metadata": {},
     "output_type": "execute_result"
    }
   ],
   "source": [
    "doc[0]"
   ]
  },
  {
   "cell_type": "code",
   "execution_count": 10,
   "id": "dad1145f",
   "metadata": {},
   "outputs": [
    {
     "data": {
      "text/plain": [
       "Bill gate visite to delhi."
      ]
     },
     "execution_count": 10,
     "metadata": {},
     "output_type": "execute_result"
    }
   ],
   "source": [
    "doc[2:8]"
   ]
  },
  {
   "cell_type": "code",
   "execution_count": 11,
   "id": "9c9e93cf",
   "metadata": {},
   "outputs": [
    {
     "data": {
      "text/plain": [
       "spacy.tokens.doc.Doc"
      ]
     },
     "execution_count": 11,
     "metadata": {},
     "output_type": "execute_result"
    }
   ],
   "source": [
    "type(doc)"
   ]
  },
  {
   "cell_type": "code",
   "execution_count": 12,
   "id": "c058cf25",
   "metadata": {},
   "outputs": [
    {
     "data": {
      "text/plain": [
       "['_',\n",
       " '__bytes__',\n",
       " '__class__',\n",
       " '__delattr__',\n",
       " '__dir__',\n",
       " '__doc__',\n",
       " '__eq__',\n",
       " '__format__',\n",
       " '__ge__',\n",
       " '__getattribute__',\n",
       " '__getitem__',\n",
       " '__gt__',\n",
       " '__hash__',\n",
       " '__init__',\n",
       " '__init_subclass__',\n",
       " '__iter__',\n",
       " '__le__',\n",
       " '__len__',\n",
       " '__lt__',\n",
       " '__ne__',\n",
       " '__new__',\n",
       " '__pyx_vtable__',\n",
       " '__reduce__',\n",
       " '__reduce_ex__',\n",
       " '__repr__',\n",
       " '__setattr__',\n",
       " '__setstate__',\n",
       " '__sizeof__',\n",
       " '__str__',\n",
       " '__subclasshook__',\n",
       " '__unicode__',\n",
       " '_bulk_merge',\n",
       " '_context',\n",
       " '_get_array_attrs',\n",
       " '_realloc',\n",
       " '_vector',\n",
       " '_vector_norm',\n",
       " 'cats',\n",
       " 'char_span',\n",
       " 'copy',\n",
       " 'count_by',\n",
       " 'doc',\n",
       " 'ents',\n",
       " 'extend_tensor',\n",
       " 'from_array',\n",
       " 'from_bytes',\n",
       " 'from_dict',\n",
       " 'from_disk',\n",
       " 'from_docs',\n",
       " 'from_json',\n",
       " 'get_extension',\n",
       " 'get_lca_matrix',\n",
       " 'has_annotation',\n",
       " 'has_extension',\n",
       " 'has_unknown_spaces',\n",
       " 'has_vector',\n",
       " 'is_nered',\n",
       " 'is_parsed',\n",
       " 'is_sentenced',\n",
       " 'is_tagged',\n",
       " 'lang',\n",
       " 'lang_',\n",
       " 'mem',\n",
       " 'noun_chunks',\n",
       " 'noun_chunks_iterator',\n",
       " 'remove_extension',\n",
       " 'retokenize',\n",
       " 'sentiment',\n",
       " 'sents',\n",
       " 'set_ents',\n",
       " 'set_extension',\n",
       " 'similarity',\n",
       " 'spans',\n",
       " 'tensor',\n",
       " 'text',\n",
       " 'text_with_ws',\n",
       " 'to_array',\n",
       " 'to_bytes',\n",
       " 'to_dict',\n",
       " 'to_disk',\n",
       " 'to_json',\n",
       " 'to_utf8_array',\n",
       " 'user_data',\n",
       " 'user_hooks',\n",
       " 'user_span_hooks',\n",
       " 'user_token_hooks',\n",
       " 'vector',\n",
       " 'vector_norm',\n",
       " 'vocab']"
      ]
     },
     "execution_count": 12,
     "metadata": {},
     "output_type": "execute_result"
    }
   ],
   "source": [
    "dir(doc)"
   ]
  },
  {
   "cell_type": "code",
   "execution_count": 29,
   "id": "e7599764",
   "metadata": {},
   "outputs": [],
   "source": [
    "doc = nlp('Mark and Bill gate visite to delhi. And like the 5$ chai.')\n"
   ]
  },
  {
   "cell_type": "code",
   "execution_count": 27,
   "id": "b19ff71d",
   "metadata": {},
   "outputs": [
    {
     "data": {
      "text/plain": [
       "True"
      ]
     },
     "execution_count": 27,
     "metadata": {},
     "output_type": "execute_result"
    }
   ],
   "source": [
    "doc[2].like_num"
   ]
  },
  {
   "cell_type": "code",
   "execution_count": 31,
   "id": "f5735f84",
   "metadata": {},
   "outputs": [
    {
     "name": "stdout",
     "output_type": "stream",
     "text": [
      "Mark ==> index:  0 is_alpha: True is_punct: False like_num: False is_currency: False\n",
      "and ==> index:  1 is_alpha: True is_punct: False like_num: False is_currency: False\n",
      "Bill ==> index:  2 is_alpha: True is_punct: False like_num: False is_currency: False\n",
      "gate ==> index:  3 is_alpha: True is_punct: False like_num: False is_currency: False\n",
      "visite ==> index:  4 is_alpha: True is_punct: False like_num: False is_currency: False\n",
      "to ==> index:  5 is_alpha: True is_punct: False like_num: False is_currency: False\n",
      "delhi ==> index:  6 is_alpha: True is_punct: False like_num: False is_currency: False\n",
      ". ==> index:  7 is_alpha: False is_punct: True like_num: False is_currency: False\n",
      "And ==> index:  8 is_alpha: True is_punct: False like_num: False is_currency: False\n",
      "like ==> index:  9 is_alpha: True is_punct: False like_num: False is_currency: False\n",
      "the ==> index:  10 is_alpha: True is_punct: False like_num: False is_currency: False\n",
      "5 ==> index:  11 is_alpha: False is_punct: False like_num: True is_currency: False\n",
      "$ ==> index:  12 is_alpha: False is_punct: False like_num: False is_currency: True\n",
      "chai ==> index:  13 is_alpha: True is_punct: False like_num: False is_currency: False\n",
      ". ==> index:  14 is_alpha: False is_punct: True like_num: False is_currency: False\n"
     ]
    }
   ],
   "source": [
    "for token in doc:\n",
    "    print(token, \"==>\", 'index: ', token.i,\n",
    "         \"is_alpha:\", token.is_alpha,\n",
    "         \"is_punct:\", token.is_punct,\n",
    "         \"like_num:\", token.like_num,\n",
    "         \"is_currency:\", token.is_currency,\n",
    "         )\n",
    "    "
   ]
  },
  {
   "cell_type": "code",
   "execution_count": 34,
   "id": "b8f1d539",
   "metadata": {},
   "outputs": [
    {
     "data": {
      "text/plain": [
       "['Hathian High School, &th Class Student Information\\n',\n",
       " '\\n',\n",
       " '--------------------------------------------------\\n',\n",
       " '\\n',\n",
       " 'Name   birthday       email\\n',\n",
       " '--------------------------------------------------\\n',\n",
       " 'Amir  14 Aug, 2002    ham@gmail.com\\n',\n",
       " 'Zohan 14 Mar, 2021    zoh@gmail.com\\n',\n",
       " 'Ayan  4 Feb,  2019    ayna@gmail.com ']"
      ]
     },
     "execution_count": 34,
     "metadata": {},
     "output_type": "execute_result"
    }
   ],
   "source": [
    "with open('Email.txt') as file:\n",
    "    text=file.readlines()\n",
    "text"
   ]
  },
  {
   "cell_type": "code",
   "execution_count": 35,
   "id": "1b036f79",
   "metadata": {},
   "outputs": [],
   "source": [
    "text = ' '.join(text)"
   ]
  },
  {
   "cell_type": "code",
   "execution_count": 36,
   "id": "ed8d8d51",
   "metadata": {},
   "outputs": [
    {
     "data": {
      "text/plain": [
       "'Hathian High School, &th Class Student Information\\n \\n --------------------------------------------------\\n \\n Name   birthday       email\\n --------------------------------------------------\\n Amir  14 Aug, 2002    ham@gmail.com\\n Zohan 14 Mar, 2021    zoh@gmail.com\\n Ayan  4 Feb,  2019    ayna@gmail.com '"
      ]
     },
     "execution_count": 36,
     "metadata": {},
     "output_type": "execute_result"
    }
   ],
   "source": [
    "text"
   ]
  },
  {
   "cell_type": "code",
   "execution_count": 39,
   "id": "c21f4bff",
   "metadata": {},
   "outputs": [
    {
     "data": {
      "text/plain": [
       "['ham@gmail.com', 'zoh@gmail.com', 'ayna@gmail.com']"
      ]
     },
     "execution_count": 39,
     "metadata": {},
     "output_type": "execute_result"
    }
   ],
   "source": [
    "doc = nlp(text)\n",
    "emails=[]\n",
    "for token in doc:\n",
    "    if token.like_email:\n",
    "        emails.append(token.text)\n",
    "emails        \n",
    "        "
   ]
  },
  {
   "cell_type": "code",
   "execution_count": 43,
   "id": "79cc1c57",
   "metadata": {},
   "outputs": [
    {
     "data": {
      "text/plain": [
       "['14', '2002', '14', '2021', '4', '2019']"
      ]
     },
     "execution_count": 43,
     "metadata": {},
     "output_type": "execute_result"
    }
   ],
   "source": [
    "doc = nlp(text)\n",
    "number=[]\n",
    "for token in doc:\n",
    "    if token.like_num:\n",
    "        number.append(token.text)\n",
    "number"
   ]
  },
  {
   "cell_type": "code",
   "execution_count": 42,
   "id": "bd0957e3",
   "metadata": {},
   "outputs": [
    {
     "data": {
      "text/plain": [
       "['gim', 'me', 'double', 'cheese', 'extra', 'large', ' ', 'healthy', 'pizza']"
      ]
     },
     "execution_count": 42,
     "metadata": {},
     "output_type": "execute_result"
    }
   ],
   "source": [
    "from spacy.symbols import ORTH\n",
    "\n",
    "nlp.tokenizer.add_special_case('gimme', [\n",
    "    {ORTH: 'gim'},\n",
    "    {ORTH: 'me'}\n",
    "])\n",
    "doc = nlp('gimme double cheese extra large  healthy pizza')\n",
    "token = [token.text for token in doc]\n",
    "token"
   ]
  },
  {
   "cell_type": "code",
   "execution_count": 47,
   "id": "0405fccf",
   "metadata": {},
   "outputs": [
    {
     "name": "stdout",
     "output_type": "stream",
     "text": [
      "Mark and Bill gate visite to delhi.\n",
      "And like the 5$ chai.\n"
     ]
    }
   ],
   "source": [
    "doc = nlp('Mark and Bill gate visite to delhi. And like the 5$ chai.')\n",
    "for sentence in doc.sents:\n",
    "    print(sentence)"
   ]
  },
  {
   "cell_type": "code",
   "execution_count": 45,
   "id": "9bd2b18a",
   "metadata": {},
   "outputs": [
    {
     "data": {
      "text/plain": [
       "<spacy.pipeline.sentencizer.Sentencizer at 0x21a62b7c640>"
      ]
     },
     "execution_count": 45,
     "metadata": {},
     "output_type": "execute_result"
    }
   ],
   "source": [
    "nlp.add_pipe('sentencizer')"
   ]
  },
  {
   "cell_type": "code",
   "execution_count": 46,
   "id": "ba7f70a4",
   "metadata": {},
   "outputs": [
    {
     "data": {
      "text/plain": [
       "['sentencizer']"
      ]
     },
     "execution_count": 46,
     "metadata": {},
     "output_type": "execute_result"
    }
   ],
   "source": [
    "nlp.pipe_names"
   ]
  },
  {
   "cell_type": "code",
   "execution_count": 48,
   "id": "30b71a6a",
   "metadata": {},
   "outputs": [
    {
     "name": "stdout",
     "output_type": "stream",
     "text": [
      "Mark and Bill gate visite to delhi.\n",
      "And like the 5$ chai.\n",
      "I am Amir Hamza\n"
     ]
    }
   ],
   "source": [
    "doc = nlp('Mark and Bill gate visite to delhi. And like the 5$ chai. I am Amir Hamza')\n",
    "for sentence in doc.sents:\n",
    "    print(sentence)"
   ]
  },
  {
   "cell_type": "code",
   "execution_count": null,
   "id": "fed32a52",
   "metadata": {},
   "outputs": [],
   "source": []
  }
 ],
 "metadata": {
  "kernelspec": {
   "display_name": "Python 3 (ipykernel)",
   "language": "python",
   "name": "python3"
  },
  "language_info": {
   "codemirror_mode": {
    "name": "ipython",
    "version": 3
   },
   "file_extension": ".py",
   "mimetype": "text/x-python",
   "name": "python",
   "nbconvert_exporter": "python",
   "pygments_lexer": "ipython3",
   "version": "3.9.13"
  }
 },
 "nbformat": 4,
 "nbformat_minor": 5
}
