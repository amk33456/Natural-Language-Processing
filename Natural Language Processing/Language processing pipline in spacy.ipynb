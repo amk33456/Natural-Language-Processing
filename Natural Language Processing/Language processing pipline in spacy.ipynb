{
 "cells": [
  {
   "cell_type": "markdown",
   "id": "108a736b",
   "metadata": {},
   "source": [
    "## Language prop"
   ]
  },
  {
   "cell_type": "code",
   "execution_count": 1,
   "id": "29211c9d",
   "metadata": {},
   "outputs": [],
   "source": [
    "import spacy"
   ]
  },
  {
   "cell_type": "code",
   "execution_count": 2,
   "id": "37c6f563",
   "metadata": {},
   "outputs": [
    {
     "name": "stdout",
     "output_type": "stream",
     "text": [
      "Mark\n",
      "and\n",
      "Bill\n",
      "gate\n",
      "visite\n",
      "to\n",
      "delhi\n",
      ".\n",
      "And\n",
      "like\n",
      "the\n",
      "5\n",
      "$\n",
      "chai\n",
      ".\n"
     ]
    }
   ],
   "source": [
    "nlp = spacy.blank(\"en\")\n",
    "\n",
    "doc = nlp('Mark and Bill gate visite to delhi. And like the 5$ chai.')\n",
    "for token in doc:\n",
    "    print(token)"
   ]
  },
  {
   "cell_type": "code",
   "execution_count": 5,
   "id": "c2853f77",
   "metadata": {},
   "outputs": [
    {
     "data": {
      "text/plain": [
       "[]"
      ]
     },
     "execution_count": 5,
     "metadata": {},
     "output_type": "execute_result"
    }
   ],
   "source": [
    "nlp.pipe_names"
   ]
  },
  {
   "cell_type": "code",
   "execution_count": 7,
   "id": "c3a215ec",
   "metadata": {},
   "outputs": [],
   "source": [
    "nlp = spacy.load('en_core_web_sm')"
   ]
  },
  {
   "cell_type": "code",
   "execution_count": 8,
   "id": "9703fca9",
   "metadata": {},
   "outputs": [
    {
     "data": {
      "text/plain": [
       "[('tok2vec', <spacy.pipeline.tok2vec.Tok2Vec at 0x239499c8700>),\n",
       " ('tagger', <spacy.pipeline.tagger.Tagger at 0x239499c85e0>),\n",
       " ('parser', <spacy.pipeline.dep_parser.DependencyParser at 0x239570f4890>),\n",
       " ('attribute_ruler',\n",
       "  <spacy.pipeline.attributeruler.AttributeRuler at 0x23957333640>),\n",
       " ('lemmatizer', <spacy.lang.en.lemmatizer.EnglishLemmatizer at 0x23957340780>),\n",
       " ('ner', <spacy.pipeline.ner.EntityRecognizer at 0x239570f4740>)]"
      ]
     },
     "execution_count": 8,
     "metadata": {},
     "output_type": "execute_result"
    }
   ],
   "source": [
    "nlp.pipeline"
   ]
  },
  {
   "cell_type": "code",
   "execution_count": 10,
   "id": "543154c5",
   "metadata": {},
   "outputs": [
    {
     "name": "stdout",
     "output_type": "stream",
     "text": [
      "Mark  |  PROPN  |  Mark\n",
      "and  |  CCONJ  |  and\n",
      "Bill  |  PROPN  |  Bill\n",
      "gate  |  NOUN  |  gate\n",
      "visite  |  PROPN  |  visite\n",
      "to  |  ADP  |  to\n",
      "delhi  |  PROPN  |  delhi\n",
      ".  |  PUNCT  |  .\n",
      "And  |  CCONJ  |  and\n",
      "like  |  ADP  |  like\n",
      "the  |  DET  |  the\n",
      "5  |  NUM  |  5\n",
      "$  |  SYM  |  $\n",
      "chai.he  |  NUM  |  chai.he\n",
      "ate  |  VERB  |  eat\n",
      "chai  |  NOUN  |  chai\n",
      "their  |  PRON  |  their\n"
     ]
    }
   ],
   "source": [
    "doc = nlp('Mark and Bill gate visite to delhi. And like the 5$ chai.he ate chai their')\n",
    "for token in doc:\n",
    "    print(token, ' | ', token.pos_, ' | ', token.lemma_)"
   ]
  },
  {
   "cell_type": "code",
   "execution_count": 16,
   "id": "c12d9d30",
   "metadata": {},
   "outputs": [
    {
     "name": "stdout",
     "output_type": "stream",
     "text": [
      "Tesla Inc  |  ORG  |  Companies, agencies, institutions, etc.\n",
      "$45 billion  |  MONEY  |  Monetary values, including unit\n"
     ]
    }
   ],
   "source": [
    "doc=nlp('Tesla Inc is going to aquire twitter for $45 billion')\n",
    "for ent in doc.ents:\n",
    "    print(ent.text, ' | ', ent.label_, ' | ', spacy.explain(ent.label_))"
   ]
  },
  {
   "cell_type": "code",
   "execution_count": 17,
   "id": "964c3798",
   "metadata": {},
   "outputs": [
    {
     "data": {
      "text/html": [
       "<span class=\"tex2jax_ignore\"><div class=\"entities\" style=\"line-height: 2.5; direction: ltr\">\n",
       "<mark class=\"entity\" style=\"background: #7aecec; padding: 0.45em 0.6em; margin: 0 0.25em; line-height: 1; border-radius: 0.35em;\">\n",
       "    Tesla Inc\n",
       "    <span style=\"font-size: 0.8em; font-weight: bold; line-height: 1; border-radius: 0.35em; vertical-align: middle; margin-left: 0.5rem\">ORG</span>\n",
       "</mark>\n",
       " is going to aquire twitter for \n",
       "<mark class=\"entity\" style=\"background: #e4e7d2; padding: 0.45em 0.6em; margin: 0 0.25em; line-height: 1; border-radius: 0.35em;\">\n",
       "    $45 billion\n",
       "    <span style=\"font-size: 0.8em; font-weight: bold; line-height: 1; border-radius: 0.35em; vertical-align: middle; margin-left: 0.5rem\">MONEY</span>\n",
       "</mark>\n",
       "</div></span>"
      ],
      "text/plain": [
       "<IPython.core.display.HTML object>"
      ]
     },
     "metadata": {},
     "output_type": "display_data"
    }
   ],
   "source": [
    "from spacy import displacy\n",
    "displacy.render(doc,style='ent')"
   ]
  },
  {
   "cell_type": "code",
   "execution_count": 22,
   "id": "674dbbc7",
   "metadata": {},
   "outputs": [
    {
     "name": "stdout",
     "output_type": "stream",
     "text": [
      "Googles  |  PERSON  |  People, including fictional\n",
      "English  |  LANGUAGE  |  Any named language\n",
      "over 100  |  CARDINAL  |  Numerals that do not fall under another type\n"
     ]
    }
   ],
   "source": [
    "doc=nlp('Googles service, offered free of charge, instantly translates words, phrases, and web pages between English and over 100 other languages.')\n",
    "for ent in doc.ents:\n",
    "    print(ent.text, ' | ', ent.label_, ' | ', spacy.explain(ent.label_))"
   ]
  },
  {
   "cell_type": "code",
   "execution_count": 23,
   "id": "94ef3fc7",
   "metadata": {},
   "outputs": [
    {
     "data": {
      "text/html": [
       "<span class=\"tex2jax_ignore\"><div class=\"entities\" style=\"line-height: 2.5; direction: ltr\">\n",
       "<mark class=\"entity\" style=\"background: #aa9cfc; padding: 0.45em 0.6em; margin: 0 0.25em; line-height: 1; border-radius: 0.35em;\">\n",
       "    Googles\n",
       "    <span style=\"font-size: 0.8em; font-weight: bold; line-height: 1; border-radius: 0.35em; vertical-align: middle; margin-left: 0.5rem\">PERSON</span>\n",
       "</mark>\n",
       " service, offered free of charge, instantly translates words, phrases, and web pages between \n",
       "<mark class=\"entity\" style=\"background: #ff8197; padding: 0.45em 0.6em; margin: 0 0.25em; line-height: 1; border-radius: 0.35em;\">\n",
       "    English\n",
       "    <span style=\"font-size: 0.8em; font-weight: bold; line-height: 1; border-radius: 0.35em; vertical-align: middle; margin-left: 0.5rem\">LANGUAGE</span>\n",
       "</mark>\n",
       " and \n",
       "<mark class=\"entity\" style=\"background: #e4e7d2; padding: 0.45em 0.6em; margin: 0 0.25em; line-height: 1; border-radius: 0.35em;\">\n",
       "    over 100\n",
       "    <span style=\"font-size: 0.8em; font-weight: bold; line-height: 1; border-radius: 0.35em; vertical-align: middle; margin-left: 0.5rem\">CARDINAL</span>\n",
       "</mark>\n",
       " other languages.</div></span>"
      ],
      "text/plain": [
       "<IPython.core.display.HTML object>"
      ]
     },
     "metadata": {},
     "output_type": "display_data"
    }
   ],
   "source": [
    "from spacy import displacy\n",
    "displacy.render(doc,style='ent')"
   ]
  },
  {
   "cell_type": "code",
   "execution_count": null,
   "id": "cd249d6b",
   "metadata": {},
   "outputs": [],
   "source": []
  }
 ],
 "metadata": {
  "kernelspec": {
   "display_name": "Python 3 (ipykernel)",
   "language": "python",
   "name": "python3"
  },
  "language_info": {
   "codemirror_mode": {
    "name": "ipython",
    "version": 3
   },
   "file_extension": ".py",
   "mimetype": "text/x-python",
   "name": "python",
   "nbconvert_exporter": "python",
   "pygments_lexer": "ipython3",
   "version": "3.9.13"
  }
 },
 "nbformat": 4,
 "nbformat_minor": 5
}
